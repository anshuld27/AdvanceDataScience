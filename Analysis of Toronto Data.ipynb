{
    "nbformat_minor": 1, 
    "cells": [
        {
            "source": "## Segmenting and Clustering Neighborhoods in Toronto", 
            "cell_type": "markdown", 
            "metadata": {
                "collapsed": true
            }
        }, 
        {
            "source": "Before we get the data and start exploring it, let's download all the dependencies that we will need.", 
            "cell_type": "markdown", 
            "metadata": {}
        }, 
        {
            "source": "import requests # library to handle requests\nfrom lxml import html\nfrom bs4 import BeautifulSoup\n\nimport pandas as pd\npd.set_option('display.max_columns', None)\npd.set_option('display.max_rows', None)\nimport numpy as np\n\nprint('Libraries imported.')", 
            "cell_type": "code", 
            "metadata": {}, 
            "outputs": [
                {
                    "output_type": "stream", 
                    "name": "stdout", 
                    "text": "Libraries imported.\n"
                }
            ], 
            "execution_count": 1
        }, 
        {
            "source": "## Download and Explore Dataset", 
            "cell_type": "markdown", 
            "metadata": {}
        }, 
        {
            "source": "r = requests.get(\"https://en.wikipedia.org/wiki/List_of_postal_codes_of_Canada:_M\")\nsoup = BeautifulSoup(r.content, 'html.parser')\ndata = []\ntable = soup.find('table', class_=\"wikitable\")\ntable_body = table.find('tbody')\nrows = table_body.find_all('tr')\n\nfor row in rows:    \n    cols = row.find_all(['td','th'])\n    cols = [ele.text.strip() for ele in cols]\n    data.append([ele for ele in cols if ele]) # Get rid of empty values", 
            "cell_type": "code", 
            "metadata": {}, 
            "outputs": [], 
            "execution_count": 3
        }, 
        {
            "source": "Ignore cells with a borough that is Not assigned.", 
            "cell_type": "markdown", 
            "metadata": {}
        }, 
        {
            "source": "df = pd.DataFrame(data)\nnew_header = df.iloc[0]\ndf = df[1:]\ndf.columns = new_header\ndf=df[~df.Borough.str.contains(\"Not assigned\")]\ndf.rename(columns={'Postcode':'Postal Code'}, inplace=True)\ndf=df.reset_index(drop=True)", 
            "cell_type": "code", 
            "metadata": {}, 
            "outputs": [], 
            "execution_count": 6
        }, 
        {
            "source": "Now we will combine all neighbourhood in a row having same postcode and seperated by a comma.", 
            "cell_type": "markdown", 
            "metadata": {}
        }, 
        {
            "source": "gb = df.groupby(('Postal Code','Borough'))\nresult = gb['Neighbourhood'].agg([('Neighbourhood', ', '.join)])\nresult=result.reset_index()\nresult.head(20)", 
            "cell_type": "code", 
            "metadata": {}, 
            "outputs": [
                {
                    "output_type": "execute_result", 
                    "data": {
                        "text/plain": "   Postal Code      Borough                                      Neighbourhood\n0          M1B  Scarborough                                     Rouge, Malvern\n1          M1C  Scarborough             Highland Creek, Rouge Hill, Port Union\n2          M1E  Scarborough                  Guildwood, Morningside, West Hill\n3          M1G  Scarborough                                             Woburn\n4          M1H  Scarborough                                          Cedarbrae\n5          M1J  Scarborough                                Scarborough Village\n6          M1K  Scarborough        East Birchmount Park, Ionview, Kennedy Park\n7          M1L  Scarborough                    Clairlea, Golden Mile, Oakridge\n8          M1M  Scarborough    Cliffcrest, Cliffside, Scarborough Village West\n9          M1N  Scarborough                        Birch Cliff, Cliffside West\n10         M1P  Scarborough  Dorset Park, Scarborough Town Centre, Wexford ...\n11         M1R  Scarborough                                  Maryvale, Wexford\n12         M1S  Scarborough                                          Agincourt\n13         M1T  Scarborough            Clarks Corners, Sullivan, Tam O'Shanter\n14         M1V  Scarborough  Agincourt North, L'Amoreaux East, Milliken, St...\n15         M1W  Scarborough                      L'Amoreaux West, Steeles West\n16         M1X  Scarborough                                        Upper Rouge\n17         M2H   North York                                  Hillcrest Village\n18         M2J   North York                       Fairview, Henry Farm, Oriole\n19         M2K   North York                                    Bayview Village", 
                        "text/html": "<div>\n<style scoped>\n    .dataframe tbody tr th:only-of-type {\n        vertical-align: middle;\n    }\n\n    .dataframe tbody tr th {\n        vertical-align: top;\n    }\n\n    .dataframe thead th {\n        text-align: right;\n    }\n</style>\n<table border=\"1\" class=\"dataframe\">\n  <thead>\n    <tr style=\"text-align: right;\">\n      <th></th>\n      <th>Postal Code</th>\n      <th>Borough</th>\n      <th>Neighbourhood</th>\n    </tr>\n  </thead>\n  <tbody>\n    <tr>\n      <th>0</th>\n      <td>M1B</td>\n      <td>Scarborough</td>\n      <td>Rouge, Malvern</td>\n    </tr>\n    <tr>\n      <th>1</th>\n      <td>M1C</td>\n      <td>Scarborough</td>\n      <td>Highland Creek, Rouge Hill, Port Union</td>\n    </tr>\n    <tr>\n      <th>2</th>\n      <td>M1E</td>\n      <td>Scarborough</td>\n      <td>Guildwood, Morningside, West Hill</td>\n    </tr>\n    <tr>\n      <th>3</th>\n      <td>M1G</td>\n      <td>Scarborough</td>\n      <td>Woburn</td>\n    </tr>\n    <tr>\n      <th>4</th>\n      <td>M1H</td>\n      <td>Scarborough</td>\n      <td>Cedarbrae</td>\n    </tr>\n    <tr>\n      <th>5</th>\n      <td>M1J</td>\n      <td>Scarborough</td>\n      <td>Scarborough Village</td>\n    </tr>\n    <tr>\n      <th>6</th>\n      <td>M1K</td>\n      <td>Scarborough</td>\n      <td>East Birchmount Park, Ionview, Kennedy Park</td>\n    </tr>\n    <tr>\n      <th>7</th>\n      <td>M1L</td>\n      <td>Scarborough</td>\n      <td>Clairlea, Golden Mile, Oakridge</td>\n    </tr>\n    <tr>\n      <th>8</th>\n      <td>M1M</td>\n      <td>Scarborough</td>\n      <td>Cliffcrest, Cliffside, Scarborough Village West</td>\n    </tr>\n    <tr>\n      <th>9</th>\n      <td>M1N</td>\n      <td>Scarborough</td>\n      <td>Birch Cliff, Cliffside West</td>\n    </tr>\n    <tr>\n      <th>10</th>\n      <td>M1P</td>\n      <td>Scarborough</td>\n      <td>Dorset Park, Scarborough Town Centre, Wexford ...</td>\n    </tr>\n    <tr>\n      <th>11</th>\n      <td>M1R</td>\n      <td>Scarborough</td>\n      <td>Maryvale, Wexford</td>\n    </tr>\n    <tr>\n      <th>12</th>\n      <td>M1S</td>\n      <td>Scarborough</td>\n      <td>Agincourt</td>\n    </tr>\n    <tr>\n      <th>13</th>\n      <td>M1T</td>\n      <td>Scarborough</td>\n      <td>Clarks Corners, Sullivan, Tam O'Shanter</td>\n    </tr>\n    <tr>\n      <th>14</th>\n      <td>M1V</td>\n      <td>Scarborough</td>\n      <td>Agincourt North, L'Amoreaux East, Milliken, St...</td>\n    </tr>\n    <tr>\n      <th>15</th>\n      <td>M1W</td>\n      <td>Scarborough</td>\n      <td>L'Amoreaux West, Steeles West</td>\n    </tr>\n    <tr>\n      <th>16</th>\n      <td>M1X</td>\n      <td>Scarborough</td>\n      <td>Upper Rouge</td>\n    </tr>\n    <tr>\n      <th>17</th>\n      <td>M2H</td>\n      <td>North York</td>\n      <td>Hillcrest Village</td>\n    </tr>\n    <tr>\n      <th>18</th>\n      <td>M2J</td>\n      <td>North York</td>\n      <td>Fairview, Henry Farm, Oriole</td>\n    </tr>\n    <tr>\n      <th>19</th>\n      <td>M2K</td>\n      <td>North York</td>\n      <td>Bayview Village</td>\n    </tr>\n  </tbody>\n</table>\n</div>"
                    }, 
                    "execution_count": 9, 
                    "metadata": {}
                }
            ], 
            "execution_count": 9
        }, 
        {
            "source": "result.shape", 
            "cell_type": "code", 
            "metadata": {}, 
            "outputs": [
                {
                    "output_type": "execute_result", 
                    "data": {
                        "text/plain": "(103, 3)"
                    }, 
                    "execution_count": 10, 
                    "metadata": {}
                }
            ], 
            "execution_count": 10
        }
    ], 
    "metadata": {
        "kernelspec": {
            "display_name": "Python 3.5", 
            "name": "python3", 
            "language": "python"
        }, 
        "language_info": {
            "mimetype": "text/x-python", 
            "nbconvert_exporter": "python", 
            "version": "3.5.5", 
            "name": "python", 
            "file_extension": ".py", 
            "pygments_lexer": "ipython3", 
            "codemirror_mode": {
                "version": 3, 
                "name": "ipython"
            }
        }
    }, 
    "nbformat": 4
}