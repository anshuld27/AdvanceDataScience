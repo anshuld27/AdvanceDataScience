{
    "nbformat_minor": 1, 
    "cells": [
        {
            "source": "## Segmenting and Clustering Neighborhoods in Toronto", 
            "cell_type": "markdown", 
            "metadata": {
                "collapsed": true
            }
        }, 
        {
            "source": "Before we get the data and start exploring it, let's download all the dependencies that we will need.", 
            "cell_type": "markdown", 
            "metadata": {}
        }, 
        {
            "source": "import requests # library to handle requests\nfrom lxml import html\nfrom bs4 import BeautifulSoup\n\nimport pandas as pd\npd.set_option('display.max_columns', None)\npd.set_option('display.max_rows', None)\nimport numpy as np\n\nprint('Libraries imported.')", 
            "cell_type": "code", 
            "metadata": {}, 
            "outputs": [
                {
                    "output_type": "stream", 
                    "name": "stdout", 
                    "text": "Libraries imported.\n"
                }
            ], 
            "execution_count": 1
        }, 
        {
            "source": "## 1. Download and Explore Dataset", 
            "cell_type": "markdown", 
            "metadata": {}
        }, 
        {
            "source": "r = requests.get(\"https://en.wikipedia.org/wiki/List_of_postal_codes_of_Canada:_M\")\nsoup = BeautifulSoup(r.content, 'html.parser')\ndata = []\ntable = soup.find('table', class_=\"wikitable\")\ntable_body = table.find('tbody')\nrows = table_body.find_all('tr')\n\nfor row in rows:    \n    cols = row.find_all(['td','th'])\n    cols = [ele.text.strip() for ele in cols]\n    data.append([ele for ele in cols if ele]) # Get rid of empty values\n    \n#Ignore cells with a borough that is Not assigned.\ndf = pd.DataFrame(data)\nnew_header = df.iloc[0]\ndf = df[1:]\ndf.columns = new_header\ndf=df[~df.Borough.str.contains(\"Not assigned\")]\ndf.rename(columns={'Postcode':'Postal Code'}, inplace=True)\ndf=df.reset_index(drop=True)\n\n#Now we will combine all neighbourhood in a row having same postcode and seperated by a comma.\ngb = df.groupby(('Postal Code','Borough'))\nresult = gb['Neighbourhood'].agg([('Neighbourhood', ', '.join)])\nresult=result.reset_index()\n\n#Neighbourhood having value 'Not assigned' will be replaced by name of it respective Borough\nresult['Neighbourhood'] = np.where(result['Neighbourhood']=='Not assigned', result['Borough'], result['Neighbourhood'])\n", 
            "cell_type": "code", 
            "metadata": {}, 
            "outputs": [], 
            "execution_count": 4
        }, 
        {
            "source": "## 2. Loading Latitude,Longitude Data from CSV file", 
            "cell_type": "markdown", 
            "metadata": {}
        }, 
        {
            "source": "filename='https://ibm.box.com/shared/static/9afzr83pps4pwf2smjjcf1y5mvgb18rr.csv'\nlatLongDf = pd.read_csv(filename)\nlatLongDf.head()", 
            "cell_type": "code", 
            "metadata": {}, 
            "outputs": [
                {
                    "output_type": "execute_result", 
                    "data": {
                        "text/plain": "  Postal Code   Latitude  Longitude\n0         M1B  43.806686 -79.194353\n1         M1C  43.784535 -79.160497\n2         M1E  43.763573 -79.188711\n3         M1G  43.770992 -79.216917\n4         M1H  43.773136 -79.239476", 
                        "text/html": "<div>\n<style scoped>\n    .dataframe tbody tr th:only-of-type {\n        vertical-align: middle;\n    }\n\n    .dataframe tbody tr th {\n        vertical-align: top;\n    }\n\n    .dataframe thead th {\n        text-align: right;\n    }\n</style>\n<table border=\"1\" class=\"dataframe\">\n  <thead>\n    <tr style=\"text-align: right;\">\n      <th></th>\n      <th>Postal Code</th>\n      <th>Latitude</th>\n      <th>Longitude</th>\n    </tr>\n  </thead>\n  <tbody>\n    <tr>\n      <th>0</th>\n      <td>M1B</td>\n      <td>43.806686</td>\n      <td>-79.194353</td>\n    </tr>\n    <tr>\n      <th>1</th>\n      <td>M1C</td>\n      <td>43.784535</td>\n      <td>-79.160497</td>\n    </tr>\n    <tr>\n      <th>2</th>\n      <td>M1E</td>\n      <td>43.763573</td>\n      <td>-79.188711</td>\n    </tr>\n    <tr>\n      <th>3</th>\n      <td>M1G</td>\n      <td>43.770992</td>\n      <td>-79.216917</td>\n    </tr>\n    <tr>\n      <th>4</th>\n      <td>M1H</td>\n      <td>43.773136</td>\n      <td>-79.239476</td>\n    </tr>\n  </tbody>\n</table>\n</div>"
                    }, 
                    "execution_count": 3, 
                    "metadata": {}
                }
            ], 
            "execution_count": 3
        }, 
        {
            "source": "", 
            "cell_type": "code", 
            "metadata": {}, 
            "outputs": [], 
            "execution_count": null
        }, 
        {
            "source": "", 
            "cell_type": "code", 
            "metadata": {}, 
            "outputs": [], 
            "execution_count": null
        }, 
        {
            "source": "", 
            "cell_type": "code", 
            "metadata": {}, 
            "outputs": [], 
            "execution_count": null
        }
    ], 
    "metadata": {
        "kernelspec": {
            "display_name": "Python 3.5", 
            "name": "python3", 
            "language": "python"
        }, 
        "language_info": {
            "mimetype": "text/x-python", 
            "nbconvert_exporter": "python", 
            "version": "3.5.5", 
            "name": "python", 
            "pygments_lexer": "ipython3", 
            "file_extension": ".py", 
            "codemirror_mode": {
                "version": 3, 
                "name": "ipython"
            }
        }
    }, 
    "nbformat": 4
}